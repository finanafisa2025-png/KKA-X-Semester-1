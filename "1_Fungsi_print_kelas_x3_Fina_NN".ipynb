{
  "nbformat": 4,
  "nbformat_minor": 0,
  "metadata": {
    "colab": {
      "provenance": [],
      "authorship_tag": "ABX9TyNBcAztylFbCCYESHN9mCYV",
      "include_colab_link": true
    },
    "kernelspec": {
      "name": "python3",
      "display_name": "Python 3"
    },
    "language_info": {
      "name": "python"
    }
  },
  "cells": [
    {
      "cell_type": "markdown",
      "metadata": {
        "id": "view-in-github",
        "colab_type": "text"
      },
      "source": [
        "<a href=\"https://colab.research.google.com/github/finanafisa2025-png/KKA-X-Semester-1/blob/main/%221_Fungsi_print_kelas_x3_Fina_NN%22.ipynb\" target=\"_parent\"><img src=\"https://colab.research.google.com/assets/colab-badge.svg\" alt=\"Open In Colab\"/></a>"
      ]
    },
    {
      "cell_type": "markdown",
      "source": [
        "Nama:fina nafisatun naja\n",
        "\n",
        "Kelas:x.3\n",
        "\n",
        "Absen:09"
      ],
      "metadata": {
        "id": "K5oGnPDgh0xI"
      }
    },
    {
      "cell_type": "markdown",
      "source": [],
      "metadata": {
        "id": "wxAqHEu1uyxq"
      }
    },
    {
      "cell_type": "markdown",
      "source": [
        "#Menampilkan Teks Bebas (String)"
      ],
      "metadata": {
        "id": "tzsWNPFtJYS5"
      }
    },
    {
      "cell_type": "markdown",
      "source": [],
      "metadata": {
        "id": "pB8f8eezJgV-"
      }
    },
    {
      "cell_type": "code",
      "source": [
        "print (\"Fina nafisatun naja\")"
      ],
      "metadata": {
        "id": "4WkORnejvjrF",
        "colab": {
          "base_uri": "https://localhost:8080/"
        },
        "outputId": "3cfe17dc-17ed-4f98-fd63-7a1076bb1a12"
      },
      "execution_count": null,
      "outputs": [
        {
          "output_type": "stream",
          "name": "stdout",
          "text": [
            "Fina nafisatun naja\n"
          ]
        }
      ]
    },
    {
      "cell_type": "markdown",
      "source": [],
      "metadata": {
        "id": "1cQY9b2uu4Ez"
      }
    },
    {
      "cell_type": "code",
      "execution_count": null,
      "metadata": {
        "id": "Pkx-Hfy-hHcp",
        "colab": {
          "base_uri": "https://localhost:8080/"
        },
        "outputId": "560d186e-a06b-43da-955b-c89bb1dc8c1d"
      },
      "outputs": [
        {
          "output_type": "stream",
          "name": "stdout",
          "text": [
            "Fina Nafisatun Naja\n"
          ]
        }
      ],
      "source": [
        "print('Fina Nafisatun Naja')"
      ]
    },
    {
      "cell_type": "markdown",
      "source": [
        "#Menampilkan Nilai Variabel"
      ],
      "metadata": {
        "id": "izonUy_-oKz2"
      }
    },
    {
      "cell_type": "markdown",
      "source": [],
      "metadata": {
        "id": "_VNGd-uezdZ8"
      }
    },
    {
      "cell_type": "code",
      "source": [
        "Nama=\"Fina Nafisatun Naja\"\n",
        "usia=15"
      ],
      "metadata": {
        "id": "jX4r4gdZloUM"
      },
      "execution_count": null,
      "outputs": []
    },
    {
      "cell_type": "code",
      "source": [
        "print(Nama)"
      ],
      "metadata": {
        "colab": {
          "base_uri": "https://localhost:8080/"
        },
        "id": "5tFaw0Jhkxbw",
        "outputId": "a3ffd78f-6da0-466f-f89d-df9110f74eda"
      },
      "execution_count": null,
      "outputs": [
        {
          "output_type": "stream",
          "name": "stdout",
          "text": [
            "Fina Nafisatun Naja\n"
          ]
        }
      ]
    },
    {
      "cell_type": "code",
      "source": [
        "print (Nama)"
      ],
      "metadata": {
        "colab": {
          "base_uri": "https://localhost:8080/"
        },
        "id": "tb7l1qq3Cbg4",
        "outputId": "9fe99c89-70d3-46e7-9af1-bd8a9bbd69ca"
      },
      "execution_count": null,
      "outputs": [
        {
          "output_type": "stream",
          "name": "stdout",
          "text": [
            "Fina Nafisatun Naja\n"
          ]
        }
      ]
    },
    {
      "cell_type": "code",
      "source": [
        "print(\"Nama\")"
      ],
      "metadata": {
        "colab": {
          "base_uri": "https://localhost:8080/"
        },
        "id": "mazlg9dFDcGY",
        "outputId": "7690b02d-3641-43f7-c991-7e9c3d7faff8"
      },
      "execution_count": null,
      "outputs": [
        {
          "output_type": "stream",
          "name": "stdout",
          "text": [
            "Nama\n"
          ]
        }
      ]
    },
    {
      "cell_type": "code",
      "source": [
        "print(usia)"
      ],
      "metadata": {
        "colab": {
          "base_uri": "https://localhost:8080/"
        },
        "id": "hc8aruwrnQX7",
        "outputId": "52c4e49f-35f9-4c9e-e362-959b608f7864"
      },
      "execution_count": null,
      "outputs": [
        {
          "output_type": "stream",
          "name": "stdout",
          "text": [
            "15\n"
          ]
        }
      ]
    },
    {
      "cell_type": "code",
      "source": [
        "print(\"usia\")"
      ],
      "metadata": {
        "colab": {
          "base_uri": "https://localhost:8080/"
        },
        "id": "YY2WVsxQEj3w",
        "outputId": "22fc84ac-4d56-4534-f979-9a36a7628aa8"
      },
      "execution_count": null,
      "outputs": [
        {
          "output_type": "stream",
          "name": "stdout",
          "text": [
            "usia\n"
          ]
        }
      ]
    },
    {
      "cell_type": "code",
      "source": [
        " berat_badan:70"
      ],
      "metadata": {
        "id": "eXMzO2dlFKvW"
      },
      "execution_count": null,
      "outputs": []
    },
    {
      "cell_type": "code",
      "source": [
        "print(berat_badan)"
      ],
      "metadata": {
        "colab": {
          "base_uri": "https://localhost:8080/"
        },
        "id": "hMktz-EME36J",
        "outputId": "20dd0a49-275a-43b6-df43-311cd47946da"
      },
      "execution_count": null,
      "outputs": [
        {
          "output_type": "stream",
          "name": "stdout",
          "text": [
            "70\n"
          ]
        }
      ]
    },
    {
      "cell_type": "code",
      "source": [
        "Nama_saudara:\"Rofi'i\""
      ],
      "metadata": {
        "id": "zexLPKVQrU-j"
      },
      "execution_count": null,
      "outputs": []
    },
    {
      "cell_type": "code",
      "source": [
        "print(Nama_saudara)"
      ],
      "metadata": {
        "colab": {
          "base_uri": "https://localhost:8080/"
        },
        "id": "nvRxpKu-rnN5",
        "outputId": "8ba952e2-840c-443e-e473-f4a9222a3bb2"
      },
      "execution_count": null,
      "outputs": [
        {
          "output_type": "stream",
          "name": "stdout",
          "text": [
            "Rofi'i\n"
          ]
        }
      ]
    },
    {
      "cell_type": "markdown",
      "source": [
        "#Menampilkan Nilai Variabel dan Teks Bebas"
      ],
      "metadata": {
        "id": "t5Wr9PRXFuSI"
      }
    },
    {
      "cell_type": "code",
      "source": [
        "print(\"Halo nama saya\",Nama,\".usia saya\",usia,\"tahun.\")"
      ],
      "metadata": {
        "colab": {
          "base_uri": "https://localhost:8080/"
        },
        "id": "ZWXVaMaZGNOt",
        "outputId": "ff2a284e-c175-414b-d834-1f2b524f4d3a"
      },
      "execution_count": null,
      "outputs": [
        {
          "output_type": "stream",
          "name": "stdout",
          "text": [
            "Halo nama saya Fina Nafisatun Naja .usia saya 15 tahun.\n"
          ]
        }
      ]
    },
    {
      "cell_type": "code",
      "source": [
        "print(\"Halo nama saya\"+Nama+\".usia saya\"+str(usia)+\"tahun.\")"
      ],
      "metadata": {
        "colab": {
          "base_uri": "https://localhost:8080/"
        },
        "id": "VkqI6IjRGuDo",
        "outputId": "26878b33-014b-4c5b-bd07-2986e6f6d907"
      },
      "execution_count": null,
      "outputs": [
        {
          "output_type": "stream",
          "name": "stdout",
          "text": [
            "Halo nama sayaFina Nafisatun Naja.usia saya15tahun.\n"
          ]
        }
      ]
    },
    {
      "cell_type": "code",
      "source": [
        "print(f\"Halo nama saya {Nama}. Usia saya {usia} tahun.\")"
      ],
      "metadata": {
        "colab": {
          "base_uri": "https://localhost:8080/"
        },
        "id": "Cu027iUBHuFN",
        "outputId": "0f723288-70c3-4299-dc86-7db8dc80d61a"
      },
      "execution_count": null,
      "outputs": [
        {
          "output_type": "stream",
          "name": "stdout",
          "text": [
            "Halo nama saya Fina Nafisatun Naja. Usia saya 15 tahun.\n"
          ]
        }
      ]
    },
    {
      "cell_type": "markdown",
      "source": [
        "#Escape Character"
      ],
      "metadata": {
        "id": "qyIk4pBTztlw"
      }
    },
    {
      "cell_type": "code",
      "source": [
        "print(\"Nama:Fina nafisatun naja\n",
        "kelas: X.3\n",
        "No.  absen:09)"
      ],
      "metadata": {
        "colab": {
          "base_uri": "https://localhost:8080/",
          "height": 148
        },
        "id": "FS2-amQj0E-l",
        "outputId": "0c4ee2d5-2d65-4da0-c6ce-b1e339fc0164"
      },
      "execution_count": null,
      "outputs": [
        {
          "output_type": "error",
          "ename": "SyntaxError",
          "evalue": "unterminated string literal (detected at line 1) (ipython-input-1016102301.py, line 1)",
          "traceback": [
            "\u001b[0;36m  File \u001b[0;32m\"/tmp/ipython-input-1016102301.py\"\u001b[0;36m, line \u001b[0;32m1\u001b[0m\n\u001b[0;31m    print(\"Nama:Fina nafisatun naja\u001b[0m\n\u001b[0m          ^\u001b[0m\n\u001b[0;31mSyntaxError\u001b[0m\u001b[0;31m:\u001b[0m unterminated string literal (detected at line 1)\n"
          ]
        }
      ]
    },
    {
      "cell_type": "code",
      "source": [
        "print(\"Nama:Fina nafisatun naja\")\n",
        "print(\"Kelas:X.3\")\n",
        "print(\"No.  absen:09\")"
      ],
      "metadata": {
        "colab": {
          "base_uri": "https://localhost:8080/"
        },
        "id": "n-Gi0fdf1C0G",
        "outputId": "4e6f0479-b619-4fde-cb5d-be03673f326d"
      },
      "execution_count": null,
      "outputs": [
        {
          "output_type": "stream",
          "name": "stdout",
          "text": [
            "Nama:Fina nafisatun naja\n",
            "Kelas:X.3\n",
            "No.  absen:09\n"
          ]
        }
      ]
    },
    {
      "cell_type": "code",
      "source": [
        "print(\"Nama:Fina nafisatun naja\\nKelas: X.3\\nNo. absen: 09\")"
      ],
      "metadata": {
        "colab": {
          "base_uri": "https://localhost:8080/"
        },
        "id": "N3VTsHlK3nz9",
        "outputId": "49f295ba-0022-4625-a99c-418b0254ffdf"
      },
      "execution_count": null,
      "outputs": [
        {
          "output_type": "stream",
          "name": "stdout",
          "text": [
            "Nama:Fina nafisatun naja\n",
            "Kelas: X.3\n",
            "No. absen: 09\n"
          ]
        }
      ]
    },
    {
      "cell_type": "code",
      "source": [
        "print(\"\"\"Nama\\t\\t:Fina nafisatun naja\n",
        "kelas\\t\\t: X.3\n",
        "No.  absen\\t:09\"\"\")"
      ],
      "metadata": {
        "id": "XOGmQVF04dNA",
        "colab": {
          "base_uri": "https://localhost:8080/"
        },
        "outputId": "6725bed5-eea7-4fa4-ec0b-ad43bb8c1994"
      },
      "execution_count": null,
      "outputs": [
        {
          "output_type": "stream",
          "name": "stdout",
          "text": [
            "Nama\t\t:Fina nafisatun naja\n",
            "kelas\t\t: X.3 \n",
            "No.  absen\t:09\n"
          ]
        }
      ]
    },
    {
      "cell_type": "code",
      "source": [
        "print(\"\"\"Nama\\t\\t:Fina nafisatun naja\n",
        "Kelas\\t\\t: X.3\n",
        "No. absen\\t:09\"\"\")"
      ],
      "metadata": {
        "colab": {
          "base_uri": "https://localhost:8080/"
        },
        "id": "owHI3How8XHm",
        "outputId": "4b3f4309-3352-457b-8c34-393a96416e32"
      },
      "execution_count": null,
      "outputs": [
        {
          "output_type": "stream",
          "name": "stdout",
          "text": [
            "Nama\t\t:Fina nafisatun naja\n",
            "Kelas\t\t: X.3\n",
            "No. absen\t:09\n"
          ]
        }
      ]
    },
    {
      "cell_type": "code",
      "source": [
        "print('Nama:Habibie Ainun')"
      ],
      "metadata": {
        "colab": {
          "base_uri": "https://localhost:8080/"
        },
        "id": "pJ_4YCj330_S",
        "outputId": "3c7a68dc-80b9-44cd-9b1a-7a2c889ccd95"
      },
      "execution_count": null,
      "outputs": [
        {
          "output_type": "stream",
          "name": "stdout",
          "text": [
            "Nama:Habibie Ainun\n"
          ]
        }
      ]
    },
    {
      "cell_type": "code",
      "source": [
        "print(\"Nama:Habibie Ainun\")"
      ],
      "metadata": {
        "colab": {
          "base_uri": "https://localhost:8080/"
        },
        "id": "ytXhxnl03prY",
        "outputId": "5137012e-5480-4ab1-8871-024090db8e7c"
      },
      "execution_count": null,
      "outputs": [
        {
          "output_type": "stream",
          "name": "stdout",
          "text": [
            "Nama:Habibie Ainun\n"
          ]
        }
      ]
    },
    {
      "cell_type": "code",
      "source": [
        "print('Nama:Habibie A\\'inun')"
      ],
      "metadata": {
        "colab": {
          "base_uri": "https://localhost:8080/"
        },
        "id": "5PVDufjN3-S1",
        "outputId": "35c5de31-a4e8-4ce1-84c7-16029e66412a"
      },
      "execution_count": null,
      "outputs": [
        {
          "output_type": "stream",
          "name": "stdout",
          "text": [
            "Nama:Habibie A'inun\n"
          ]
        }
      ]
    },
    {
      "cell_type": "code",
      "source": [
        "print(\"Nama:Habibie A'inun\")"
      ],
      "metadata": {
        "colab": {
          "base_uri": "https://localhost:8080/"
        },
        "id": "Gn1RjJqU4xi5",
        "outputId": "207ae4ee-cdc5-42b5-de1e-94369f8596dd"
      },
      "execution_count": null,
      "outputs": [
        {
          "output_type": "stream",
          "name": "stdout",
          "text": [
            "Nama:Habibie A'inun\n"
          ]
        }
      ]
    },
    {
      "cell_type": "code",
      "source": [
        "print(\"Bu shinta berkata, \\\"silahkan lihat ke layar TV.\\\".\")"
      ],
      "metadata": {
        "colab": {
          "base_uri": "https://localhost:8080/"
        },
        "id": "ikm_xOje5FyQ",
        "outputId": "7bc123cc-9894-4dee-ef79-93ae3e0c9daf"
      },
      "execution_count": null,
      "outputs": [
        {
          "output_type": "stream",
          "name": "stdout",
          "text": [
            "Bu shinta berkata, \"silahkan lihat ke layar TV.\".\n"
          ]
        }
      ]
    },
    {
      "cell_type": "code",
      "source": [
        "print('Bu shinta berkata, \"silahkan lihat ke layar TV.\".')"
      ],
      "metadata": {
        "colab": {
          "base_uri": "https://localhost:8080/"
        },
        "id": "KgC9gZC450-E",
        "outputId": "0827f09f-d632-400a-85dd-053296b822ae"
      },
      "execution_count": null,
      "outputs": [
        {
          "output_type": "stream",
          "name": "stdout",
          "text": [
            "Bu shinta berkata, \"silahkan lihat ke layar TV.\".\n"
          ]
        }
      ]
    },
    {
      "cell_type": "code",
      "source": [
        "print(\"\"\"Nama file\\t:Tugas KKA\n",
        "Lokasi file\\t:D.\\\\MAN Demak\\\\KKA\"\"\")"
      ],
      "metadata": {
        "colab": {
          "base_uri": "https://localhost:8080/"
        },
        "id": "9GdqGGO06LRO",
        "outputId": "7694e6c2-dbbe-40e3-d9c8-d9210f139a9c"
      },
      "execution_count": null,
      "outputs": [
        {
          "output_type": "stream",
          "name": "stdout",
          "text": [
            "Nama file\t:Tugas KKA\n",
            "Lokasi file\t:D.\\MAN Demak\\KKA\n"
          ]
        }
      ]
    }
  ]
}